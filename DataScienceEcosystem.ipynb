{
 "cells": [
  {
   "cell_type": "markdown",
   "id": "e4d12dde-e59f-4e4c-9b39-cfca078bfc8e",
   "metadata": {},
   "source": [
    "# Data Science Tools and Ecosystem"
   ]
  },
  {
   "cell_type": "markdown",
   "id": "a9643a1c-6d22-4080-ae56-2622d5e22803",
   "metadata": {},
   "source": [
    "## In this notebook, Data Science Tools and Ecosystem are summarized."
   ]
  },
  {
   "cell_type": "markdown",
   "id": "e77f3221-c5dc-4ad5-b2a1-c187e66b0c8e",
   "metadata": {},
   "source": [
    "**Objectives:**\n",
    "- List popular languages for Data Science\n",
    "- Data Science Tools\n",
    "- List of the commonly used libraries used by Data Scientists\n",
    "- Examples of evaluating arithmetic expressions in Python"
   ]
  },
  {
   "cell_type": "markdown",
   "id": "f5cd9296-dc21-4be6-841e-3b1fd494172c",
   "metadata": {},
   "source": [
    "### Some of the popular languages that Data Scientists use are:\n",
    "1. Python\n",
    "2. R\n",
    "3. SQL\n",
    "4. Scala"
   ]
  },
  {
   "cell_type": "markdown",
   "id": "ef789e44-8b98-4177-8e98-ed6a9d7c009d",
   "metadata": {},
   "source": [
    "### Some of the commonly used libraries used by Data Scientists include:\n",
    "1. Pandas\n",
    "2. Numpy\n",
    "3. TensorFlow\n",
    "4. Keras\n",
    "5. Seaborn"
   ]
  },
  {
   "cell_type": "markdown",
   "id": "1bee6d5f-43b9-4710-84ba-fad3854651e9",
   "metadata": {},
   "source": [
    "|Data Science Tools |\n",
    "| ------------------ |\n",
    "| Jupyter Notebook |\n",
    "| RStudio |\n",
    "| Apache Zeppelin |"
   ]
  },
  {
   "cell_type": "markdown",
   "id": "4691d80c-e52d-4b43-b236-2cd85c087717",
   "metadata": {},
   "source": [
    "### Below are a few examples of evaluating arithmetic expressions in Python"
   ]
  },
  {
   "cell_type": "code",
   "execution_count": 14,
   "id": "b00d1877-48a6-4fa3-a60a-f9af4f20c64a",
   "metadata": {},
   "outputs": [
    {
     "data": {
      "text/plain": [
       "17"
      ]
     },
     "execution_count": 14,
     "metadata": {},
     "output_type": "execute_result"
    }
   ],
   "source": [
    "#This a simple arithmetic expression to mutiply then add integers\n",
    "(3*4)+5"
   ]
  },
  {
   "cell_type": "code",
   "execution_count": 15,
   "id": "36aa5830-0054-4ce4-8c89-6fb4257d00f4",
   "metadata": {},
   "outputs": [
    {
     "name": "stdout",
     "output_type": "stream",
     "text": [
      "200 minutes are 3.3333333333333335 hours\n"
     ]
    }
   ],
   "source": [
    "#This will convert 200 minutes to hours by diving by 60\n",
    "minutes = 200\n",
    "hours = minutes / 60\n",
    "\n",
    "print(f\"{minutes} minutes are {hours} hours\")"
   ]
  },
  {
   "cell_type": "markdown",
   "id": "006ccda3-b199-4a71-8b8c-617ae7bd12ef",
   "metadata": {},
   "source": [
    "## Author\n",
    "Gabriel Yepez Cadenas"
   ]
  },
  {
   "cell_type": "code",
   "execution_count": null,
   "id": "eaa2d78a-3f29-43c1-b75f-aeb396d6c4a8",
   "metadata": {},
   "outputs": [],
   "source": []
  }
 ],
 "metadata": {
  "kernelspec": {
   "display_name": "Python 3 (ipykernel)",
   "language": "python",
   "name": "python3"
  },
  "language_info": {
   "codemirror_mode": {
    "name": "ipython",
    "version": 3
   },
   "file_extension": ".py",
   "mimetype": "text/x-python",
   "name": "python",
   "nbconvert_exporter": "python",
   "pygments_lexer": "ipython3",
   "version": "3.12.8"
  }
 },
 "nbformat": 4,
 "nbformat_minor": 5
}
